def gcd(a,b):
	if(b>a):
		if(b%a==0):
			print(a)
		else:
			gcd(b-a,a)
	else:
		if(a%b==0):
			print(b)
		else:
			gcd(a-b,b)
a=int(input())
b=int(input())
gcd(a,b)
